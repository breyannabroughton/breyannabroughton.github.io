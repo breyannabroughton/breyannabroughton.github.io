{
 "cells": [
  {
   "cell_type": "markdown",
   "id": "ca6620bd",
   "metadata": {},
   "source": [
    "# YouTube Comments Sentiment Analysis\n",
    "\n",
    "Sentiment analysis is the process of detecting positive or negative sentiment in text. It’s often used by businesses to detect sentiment in social data, gauge brand reputation, and understand customers.\n",
    "\n",
    "In this project, I performed a sentiment analysis on the popular media platform, YouTube. This project has been broken down into the following sections:\n",
    "\n",
    "### Polarity\n",
    "Each comment of the GBcomments dataset is analyzed to determine the polarity of the text contained in the comment.  It is scored using polarity values that range from 1 to -1. Values closer to 1 indicate more positivity, while values closer to -1 indicate more negativity. The data was collected from a Youtube video (video id: jt2OHQh0HoQ) and the sentiment analysis was conducted using the TextBlob library. A wordcloud was generated using WordCloud library for both the positive and negative comments to find the most common words used in each.\n",
    "\n",
    "### Trending Tags\n",
    "Video data located in the USvideos dataset collected from YouTube was analyzed to find the most commonly used tags on each video. A very simple analysis was performed and a wordcloud was generated showin the most common used tags.\n",
    "\n",
    "### Correlation of Views, Likes, and Dislikes\n",
    "Using the same USvideos dataset, I performed an analysis on the likes, dislikes, and views of each video. Using Matplot, I generated a regression plot to analyze the correlation between views and dislikes, as well as a plot to analyze views and likes. A heatmap was also generated to view the correlation matrix.\n",
    "\n",
    "### Emoji Analysis\n",
    "Using the same USvideos dataset, I performed an analysis of all of the emojis used in each comment, under each video included in the dataset. \n",
    "\n"
   ]
  },
  {
   "cell_type": "code",
   "execution_count": 1,
   "id": "6c2cf15e",
   "metadata": {},
   "outputs": [],
   "source": [
    "#import all of the necessary libraries to perform sentiment analysis\n",
    "\n",
    "import pandas as pd\n",
    "import numpy as np\n",
    "import matplotlib.pyplot as plt\n",
    "import seaborn as sns\n"
   ]
  },
  {
   "cell_type": "code",
   "execution_count": 2,
   "id": "7d34314f",
   "metadata": {},
   "outputs": [
    {
     "name": "stdout",
     "output_type": "stream",
     "text": [
      "Requirement already satisfied: textblob in /Users/breyannabroughton/opt/anaconda3/lib/python3.9/site-packages (0.17.1)\n",
      "Requirement already satisfied: nltk>=3.1 in /Users/breyannabroughton/opt/anaconda3/lib/python3.9/site-packages (from textblob) (3.6.5)\n",
      "Requirement already satisfied: click in /Users/breyannabroughton/opt/anaconda3/lib/python3.9/site-packages (from nltk>=3.1->textblob) (8.0.3)\n",
      "Requirement already satisfied: joblib in /Users/breyannabroughton/opt/anaconda3/lib/python3.9/site-packages (from nltk>=3.1->textblob) (1.1.0)\n",
      "Requirement already satisfied: regex>=2021.8.3 in /Users/breyannabroughton/opt/anaconda3/lib/python3.9/site-packages (from nltk>=3.1->textblob) (2021.8.3)\n",
      "Requirement already satisfied: tqdm in /Users/breyannabroughton/opt/anaconda3/lib/python3.9/site-packages (from nltk>=3.1->textblob) (4.62.3)\n"
     ]
    }
   ],
   "source": [
    "#Install textblob library\n",
    "!pip install textblob\n"
   ]
  },
  {
   "cell_type": "code",
   "execution_count": 3,
   "id": "4728e8c2",
   "metadata": {},
   "outputs": [],
   "source": [
    "from textblob import TextBlob\n"
   ]
  },
  {
   "cell_type": "code",
   "execution_count": 4,
   "id": "764abea1-f827-4a3f-a4c6-e70795aecc00",
   "metadata": {},
   "outputs": [
    {
     "name": "stderr",
     "output_type": "stream",
     "text": [
      "/Users/breyannabroughton/opt/anaconda3/lib/python3.9/site-packages/IPython/core/interactiveshell.py:3444: FutureWarning: The error_bad_lines argument has been deprecated and will be removed in a future version.\n",
      "\n",
      "\n",
      "  exec(code_obj, self.user_global_ns, self.user_ns)\n",
      "b'Skipping line 113225: expected 4 fields, saw 5\\n'\n",
      "b'Skipping line 158379: expected 4 fields, saw 7\\nSkipping line 241590: expected 4 fields, saw 5\\nSkipping line 245637: expected 4 fields, saw 7\\n'\n",
      "b'Skipping line 521402: expected 4 fields, saw 5\\n'\n"
     ]
    }
   ],
   "source": [
    "comments = pd.read_csv('/Users/breyannabroughton/Desktop/DA/Youtube Project/Data Resources/GBcomments.csv', error_bad_lines = False)"
   ]
  },
  {
   "cell_type": "markdown",
   "id": "c28ad669",
   "metadata": {},
   "source": [
    "**Here after importing the libraries and the YouTube comments dataset, I'll explore the data to the see the various datatypes and drop rows with missing values (if any)**"
   ]
  },
  {
   "cell_type": "code",
   "execution_count": 5,
   "id": "a069f146",
   "metadata": {},
   "outputs": [
    {
     "data": {
      "text/html": [
       "<div>\n",
       "<style scoped>\n",
       "    .dataframe tbody tr th:only-of-type {\n",
       "        vertical-align: middle;\n",
       "    }\n",
       "\n",
       "    .dataframe tbody tr th {\n",
       "        vertical-align: top;\n",
       "    }\n",
       "\n",
       "    .dataframe thead th {\n",
       "        text-align: right;\n",
       "    }\n",
       "</style>\n",
       "<table border=\"1\" class=\"dataframe\">\n",
       "  <thead>\n",
       "    <tr style=\"text-align: right;\">\n",
       "      <th></th>\n",
       "      <th>video_id</th>\n",
       "      <th>comment_text</th>\n",
       "      <th>likes</th>\n",
       "      <th>replies</th>\n",
       "    </tr>\n",
       "  </thead>\n",
       "  <tbody>\n",
       "    <tr>\n",
       "      <th>0</th>\n",
       "      <td>jt2OHQh0HoQ</td>\n",
       "      <td>It's more accurate to call it the M+ (1000) be...</td>\n",
       "      <td>0</td>\n",
       "      <td>0</td>\n",
       "    </tr>\n",
       "    <tr>\n",
       "      <th>1</th>\n",
       "      <td>jt2OHQh0HoQ</td>\n",
       "      <td>To be there with a samsung phone\\n😂😂😂</td>\n",
       "      <td>1</td>\n",
       "      <td>0</td>\n",
       "    </tr>\n",
       "    <tr>\n",
       "      <th>2</th>\n",
       "      <td>jt2OHQh0HoQ</td>\n",
       "      <td>Thank gosh, a place I can watch it without hav...</td>\n",
       "      <td>0</td>\n",
       "      <td>0</td>\n",
       "    </tr>\n",
       "    <tr>\n",
       "      <th>3</th>\n",
       "      <td>jt2OHQh0HoQ</td>\n",
       "      <td>What happened to the home button on the iPhone...</td>\n",
       "      <td>0</td>\n",
       "      <td>0</td>\n",
       "    </tr>\n",
       "    <tr>\n",
       "      <th>4</th>\n",
       "      <td>jt2OHQh0HoQ</td>\n",
       "      <td>Power is the disease.  Care is the cure.  Keep...</td>\n",
       "      <td>0</td>\n",
       "      <td>0</td>\n",
       "    </tr>\n",
       "  </tbody>\n",
       "</table>\n",
       "</div>"
      ],
      "text/plain": [
       "      video_id                                       comment_text  likes  \\\n",
       "0  jt2OHQh0HoQ  It's more accurate to call it the M+ (1000) be...      0   \n",
       "1  jt2OHQh0HoQ              To be there with a samsung phone\\n😂😂😂      1   \n",
       "2  jt2OHQh0HoQ  Thank gosh, a place I can watch it without hav...      0   \n",
       "3  jt2OHQh0HoQ  What happened to the home button on the iPhone...      0   \n",
       "4  jt2OHQh0HoQ  Power is the disease.  Care is the cure.  Keep...      0   \n",
       "\n",
       "   replies  \n",
       "0        0  \n",
       "1        0  \n",
       "2        0  \n",
       "3        0  \n",
       "4        0  "
      ]
     },
     "execution_count": 5,
     "metadata": {},
     "output_type": "execute_result"
    }
   ],
   "source": [
    "comments.head()"
   ]
  },
  {
   "cell_type": "markdown",
   "id": "ddc3b363",
   "metadata": {},
   "source": [
    "**Check for *null* values in the dataset**"
   ]
  },
  {
   "cell_type": "code",
   "execution_count": 6,
   "id": "82fbd5c1",
   "metadata": {},
   "outputs": [
    {
     "data": {
      "text/plain": [
       "video_id         0\n",
       "comment_text    28\n",
       "likes            0\n",
       "replies          0\n",
       "dtype: int64"
      ]
     },
     "execution_count": 6,
     "metadata": {},
     "output_type": "execute_result"
    }
   ],
   "source": [
    "comments.isna().sum()"
   ]
  },
  {
   "cell_type": "markdown",
   "id": "724eded6",
   "metadata": {},
   "source": [
    "**Since only a few rows (28) had missing data, I found it better to drop those and work on the remaining data and set the inplace parameter as True to update the dataframe.**"
   ]
  },
  {
   "cell_type": "code",
   "execution_count": 7,
   "id": "389ede8f",
   "metadata": {},
   "outputs": [],
   "source": [
    "comments.dropna(inplace = True)"
   ]
  },
  {
   "cell_type": "code",
   "execution_count": 8,
   "id": "cb7960a8",
   "metadata": {},
   "outputs": [
    {
     "data": {
      "text/plain": [
       "0.45000000000000007"
      ]
     },
     "execution_count": 8,
     "metadata": {},
     "output_type": "execute_result"
    }
   ],
   "source": [
    "#call the sentiment polarity of the first comment\n",
    "TextBlob('Its more accurate to call it the M+ (1000) be...').sentiment.polarity"
   ]
  },
  {
   "cell_type": "markdown",
   "id": "256e93f5",
   "metadata": {},
   "source": [
    "**I'm running the sentiment polarity for the whole dataset and adding a polarity column to the dataset to display the results.**"
   ]
  },
  {
   "cell_type": "code",
   "execution_count": null,
   "id": "2950ff22",
   "metadata": {},
   "outputs": [],
   "source": [
    "comments['polarity']=polarity"
   ]
  },
  {
   "cell_type": "code",
   "execution_count": 12,
   "id": "b549e439-2304-4f09-acb2-fe3c9c8b64af",
   "metadata": {},
   "outputs": [],
   "source": [
    "polarity=[]\n",
    "\n",
    "for i in comments['comment_text']:\n",
    "    polarity.append(TextBlob(i).sentiment.polarity)"
   ]
  },
  {
   "cell_type": "markdown",
   "id": "39d05eee-5461-4b42-b6a4-358c65bd7864",
   "metadata": {},
   "source": [
    "comments.head(20)"
   ]
  },
  {
   "cell_type": "code",
   "execution_count": null,
   "id": "d698aeb7",
   "metadata": {},
   "outputs": [],
   "source": [
    "## filter the dataframe ##"
   ]
  },
  {
   "cell_type": "code",
   "execution_count": null,
   "id": "c75851f9",
   "metadata": {},
   "outputs": [],
   "source": [
    "comments_positive=comments[comments['polarity']==1]"
   ]
  },
  {
   "cell_type": "code",
   "execution_count": null,
   "id": "5c7e11f4",
   "metadata": {},
   "outputs": [],
   "source": [
    "comments_positive.shape\n"
   ]
  },
  {
   "cell_type": "code",
   "execution_count": null,
   "id": "faa556bd",
   "metadata": {},
   "outputs": [],
   "source": [
    "comments_positive.head()"
   ]
  },
  {
   "cell_type": "code",
   "execution_count": null,
   "id": "0e5302a7",
   "metadata": {},
   "outputs": [],
   "source": [
    "# Wordcloud representation of sentiments\n",
    "#!pip install wordcloud"
   ]
  },
  {
   "cell_type": "code",
   "execution_count": null,
   "id": "a508588d",
   "metadata": {},
   "outputs": [],
   "source": [
    "from wordcloud import WordCloud,STOPWORDS"
   ]
  },
  {
   "cell_type": "code",
   "execution_count": null,
   "id": "58567e32",
   "metadata": {},
   "outputs": [],
   "source": [
    "stopwords=set(STOPWORDS)"
   ]
  },
  {
   "cell_type": "code",
   "execution_count": null,
   "id": "c3e02de1",
   "metadata": {},
   "outputs": [],
   "source": [
    "# call function to display words used in positive comments"
   ]
  },
  {
   "cell_type": "code",
   "execution_count": null,
   "id": "a964f555",
   "metadata": {},
   "outputs": [],
   "source": [
    "total_comments=' '.join(comments_positive['comment_text'])"
   ]
  },
  {
   "cell_type": "code",
   "execution_count": null,
   "id": "cfc10a91",
   "metadata": {},
   "outputs": [],
   "source": [
    "wordcloud=WordCloud(width=1000,height=500,stopwords=STOPWORDS).generate(total_comments)"
   ]
  },
  {
   "cell_type": "code",
   "execution_count": null,
   "id": "8808b8be",
   "metadata": {},
   "outputs": [],
   "source": [
    "plt.figure(figsize=(15,5))\n",
    "plt.imshow(wordcloud)\n",
    "plt.axis('off')"
   ]
  },
  {
   "cell_type": "markdown",
   "id": "596a103b",
   "metadata": {},
   "source": [
    "**The most common words used in positive comments are 'awesome', 'best', 'perfect', 'beautiful'.**"
   ]
  },
  {
   "cell_type": "code",
   "execution_count": null,
   "id": "9658dac1",
   "metadata": {},
   "outputs": [],
   "source": [
    "# call function to display words in negative comments"
   ]
  },
  {
   "cell_type": "code",
   "execution_count": null,
   "id": "d4f2836f",
   "metadata": {},
   "outputs": [],
   "source": [
    "comments_negative=comments[comments['polarity']==-1]"
   ]
  },
  {
   "cell_type": "code",
   "execution_count": null,
   "id": "f4c0b76b",
   "metadata": {},
   "outputs": [],
   "source": [
    "comments_negative.head()"
   ]
  },
  {
   "cell_type": "code",
   "execution_count": null,
   "id": "dda7bc91",
   "metadata": {},
   "outputs": [],
   "source": [
    "total_comments=' '.join(comments_negative['comment_text'])"
   ]
  },
  {
   "cell_type": "code",
   "execution_count": null,
   "id": "238f4808",
   "metadata": {},
   "outputs": [],
   "source": [
    "wordcloud=WordCloud(width=1000,height=500,stopwords=STOPWORDS).generate(total_comments)"
   ]
  },
  {
   "cell_type": "code",
   "execution_count": null,
   "id": "7213d136",
   "metadata": {},
   "outputs": [],
   "source": [
    "plt.figure(figsize=(15,5))\n",
    "plt.imshow(wordcloud)\n",
    "plt.axis('off')"
   ]
  },
  {
   "cell_type": "markdown",
   "id": "263c019f",
   "metadata": {},
   "source": [
    "**The most common words used in negative comments were 'boring', 'terrible', 'worst', and 'horrible'.**"
   ]
  },
  {
   "cell_type": "code",
   "execution_count": null,
   "id": "ed4e654e",
   "metadata": {},
   "outputs": [],
   "source": []
  },
  {
   "cell_type": "markdown",
   "id": "b30168a6",
   "metadata": {},
   "source": [
    "## Analyzing Trending Tags and Views \n",
    "### *What are the trending tags on YouTube?*"
   ]
  },
  {
   "cell_type": "code",
   "execution_count": null,
   "id": "5b29ce85",
   "metadata": {},
   "outputs": [],
   "source": [
    "#import USvideos dataset"
   ]
  },
  {
   "cell_type": "code",
   "execution_count": null,
   "id": "f47319cb",
   "metadata": {},
   "outputs": [],
   "source": [
    "videos = pd.read_csv('/Users/breyannabroughton/Desktop/DA/Youtube Project/Data Resources/USvideos.csv', error_bad_lines = False)"
   ]
  },
  {
   "cell_type": "code",
   "execution_count": null,
   "id": "b70387c8",
   "metadata": {},
   "outputs": [],
   "source": [
    "videos.head()"
   ]
  },
  {
   "cell_type": "code",
   "execution_count": null,
   "id": "60b7da45",
   "metadata": {},
   "outputs": [],
   "source": [
    "tags_complete=' '.join(videos['tags'])"
   ]
  },
  {
   "cell_type": "code",
   "execution_count": null,
   "id": "c992cb98",
   "metadata": {},
   "outputs": [],
   "source": [
    "tags_complete.head()"
   ]
  },
  {
   "cell_type": "code",
   "execution_count": null,
   "id": "49d31ed7",
   "metadata": {},
   "outputs": [],
   "source": [
    "# remove caracters that are not alphabetical"
   ]
  },
  {
   "cell_type": "code",
   "execution_count": null,
   "id": "85c42af8",
   "metadata": {},
   "outputs": [],
   "source": [
    "import re"
   ]
  },
  {
   "cell_type": "code",
   "execution_count": null,
   "id": "c509593a",
   "metadata": {},
   "outputs": [],
   "source": [
    "tags=re.sub('[^a-zA-Z]',' ',tags_complete)"
   ]
  },
  {
   "cell_type": "code",
   "execution_count": null,
   "id": "cf35ffb6",
   "metadata": {},
   "outputs": [],
   "source": [
    "tags"
   ]
  },
  {
   "cell_type": "code",
   "execution_count": null,
   "id": "2420b861",
   "metadata": {},
   "outputs": [],
   "source": [
    "#remove extra spacing"
   ]
  },
  {
   "cell_type": "code",
   "execution_count": null,
   "id": "55ea39c0",
   "metadata": {},
   "outputs": [],
   "source": [
    "tags=re.sub(' +',' ',tags)"
   ]
  },
  {
   "cell_type": "code",
   "execution_count": null,
   "id": "028fa752",
   "metadata": {},
   "outputs": [],
   "source": [
    "# create wordcloud for trending tags on YouTube"
   ]
  },
  {
   "cell_type": "code",
   "execution_count": null,
   "id": "f3ba853f",
   "metadata": {},
   "outputs": [],
   "source": [
    "wordcloud=WordCloud(width=1000,height=500,stopwords=set(STOPWORDS)).generate(tags)"
   ]
  },
  {
   "cell_type": "code",
   "execution_count": null,
   "id": "bbbfb019",
   "metadata": {},
   "outputs": [],
   "source": [
    "plt.figure(figsize=(15,5))\n",
    "plt.imshow(wordcloud)\n",
    "plt.axis('off')"
   ]
  },
  {
   "cell_type": "markdown",
   "id": "0e240114",
   "metadata": {},
   "source": [
    "**The top trending tags amongst US YouTube videos are 'iPhone X', 'makeup tutorial', 'music video', and 'none'.**"
   ]
  },
  {
   "cell_type": "code",
   "execution_count": null,
   "id": "aab6f3a2",
   "metadata": {},
   "outputs": [],
   "source": []
  },
  {
   "cell_type": "markdown",
   "id": "583097f1",
   "metadata": {},
   "source": [
    "# Perform analysis on likes, views, and dislikes and find how they are co-related with eachother"
   ]
  },
  {
   "cell_type": "code",
   "execution_count": null,
   "id": "cc03972e",
   "metadata": {},
   "outputs": [],
   "source": [
    "sns.regplot(data=videos,x='views',y='likes')\n",
    "plt.title('Regression plot for views & likes')"
   ]
  },
  {
   "cell_type": "markdown",
   "id": "eb778c98",
   "metadata": {},
   "source": [
    "**Regression plot shows a positive correlation between views and likes.**"
   ]
  },
  {
   "cell_type": "code",
   "execution_count": null,
   "id": "35f5e6be",
   "metadata": {},
   "outputs": [],
   "source": []
  },
  {
   "cell_type": "code",
   "execution_count": null,
   "id": "aec0d4c0",
   "metadata": {},
   "outputs": [],
   "source": [
    "sns.regplot(data=videos,x='views',y='dislikes')\n",
    "plt.title('Regression plot for views & dislikes')"
   ]
  },
  {
   "cell_type": "markdown",
   "id": "e6136360",
   "metadata": {},
   "source": [
    "**Regression plot shows a positive correlation between views and dislikes.**"
   ]
  },
  {
   "cell_type": "code",
   "execution_count": null,
   "id": "c0980969",
   "metadata": {},
   "outputs": [],
   "source": []
  },
  {
   "cell_type": "code",
   "execution_count": null,
   "id": "1e19c477",
   "metadata": {},
   "outputs": [],
   "source": [
    "#draw a correlation matrix for views, likes, and dislikes"
   ]
  },
  {
   "cell_type": "code",
   "execution_count": null,
   "id": "9cd08826",
   "metadata": {},
   "outputs": [],
   "source": [
    "df_corr=videos[['views','likes','dislikes']]"
   ]
  },
  {
   "cell_type": "code",
   "execution_count": null,
   "id": "9fe95ab2",
   "metadata": {},
   "outputs": [],
   "source": [
    "df_corr.corr()"
   ]
  },
  {
   "cell_type": "code",
   "execution_count": null,
   "id": "1dc3a10d",
   "metadata": {},
   "outputs": [],
   "source": [
    "sns.heatmap(df_corr.corr(),annot= True)"
   ]
  },
  {
   "cell_type": "markdown",
   "id": "bb13cf51",
   "metadata": {},
   "source": [
    "**Views and likes has highest correlation.**"
   ]
  },
  {
   "cell_type": "code",
   "execution_count": null,
   "id": "d3cc1514",
   "metadata": {},
   "outputs": [],
   "source": []
  },
  {
   "cell_type": "markdown",
   "id": "30090c4b",
   "metadata": {},
   "source": [
    "## Perform Emoji's analysis in comments"
   ]
  },
  {
   "cell_type": "code",
   "execution_count": null,
   "id": "399a0b12",
   "metadata": {},
   "outputs": [],
   "source": [
    "comments.head()"
   ]
  },
  {
   "cell_type": "code",
   "execution_count": null,
   "id": "7744da5a",
   "metadata": {},
   "outputs": [],
   "source": [
    "comments['comment_text'][1]"
   ]
  },
  {
   "cell_type": "code",
   "execution_count": null,
   "id": "563a1432",
   "metadata": {},
   "outputs": [],
   "source": [
    "#identify unicode character for certain emojis"
   ]
  },
  {
   "cell_type": "code",
   "execution_count": null,
   "id": "bcb55ac2",
   "metadata": {},
   "outputs": [],
   "source": [
    "print('\\U0001F600')"
   ]
  },
  {
   "cell_type": "code",
   "execution_count": null,
   "id": "4c0b8d6a",
   "metadata": {},
   "outputs": [],
   "source": [
    "#import emoji library"
   ]
  },
  {
   "cell_type": "code",
   "execution_count": null,
   "id": "564602a3",
   "metadata": {},
   "outputs": [],
   "source": [
    "!pip install emoji"
   ]
  },
  {
   "cell_type": "code",
   "execution_count": null,
   "id": "1c502e17",
   "metadata": {},
   "outputs": [],
   "source": [
    "import emoji"
   ]
  },
  {
   "cell_type": "code",
   "execution_count": null,
   "id": "8886b783",
   "metadata": {},
   "outputs": [],
   "source": [
    "len(comments)"
   ]
  },
  {
   "cell_type": "code",
   "execution_count": null,
   "id": "764989e4",
   "metadata": {},
   "outputs": [],
   "source": [
    "comment=comments['comment_text'][1]"
   ]
  },
  {
   "cell_type": "code",
   "execution_count": null,
   "id": "df8199fd",
   "metadata": {},
   "outputs": [],
   "source": [
    "[c for c in comment if c in emoji.UNICODE_EMOJI_ENGLISH]"
   ]
  },
  {
   "cell_type": "code",
   "execution_count": null,
   "id": "248e3b7b",
   "metadata": {},
   "outputs": [],
   "source": [
    "str=''\n",
    "for i in comments['comment_text']:\n",
    "    list=[c for c in i if c in emoji.UNICODE_EMOJI_ENGLISH]\n",
    "    for ele in list:\n",
    "        str=str+ele\n",
    "    "
   ]
  },
  {
   "cell_type": "code",
   "execution_count": null,
   "id": "5afb59de",
   "metadata": {},
   "outputs": [],
   "source": [
    "len(str)"
   ]
  },
  {
   "cell_type": "code",
   "execution_count": null,
   "id": "568c5eaa",
   "metadata": {},
   "outputs": [],
   "source": [
    "str"
   ]
  },
  {
   "cell_type": "markdown",
   "id": "4ece4b0c",
   "metadata": {},
   "source": [
    "**333,278 emojis were counted in all of the comments. Each emoji is then indexed to find out how many times it was used total**"
   ]
  },
  {
   "cell_type": "code",
   "execution_count": null,
   "id": "f8ffc221",
   "metadata": {},
   "outputs": [],
   "source": [
    "result={}\n",
    "for i in set(str):\n",
    "    result[i]=str.count(i)"
   ]
  },
  {
   "cell_type": "code",
   "execution_count": null,
   "id": "d9905903",
   "metadata": {},
   "outputs": [],
   "source": [
    "result"
   ]
  },
  {
   "cell_type": "code",
   "execution_count": null,
   "id": "d4bf3332",
   "metadata": {},
   "outputs": [],
   "source": [
    "result.items()"
   ]
  },
  {
   "cell_type": "code",
   "execution_count": null,
   "id": "df822f9d",
   "metadata": {},
   "outputs": [],
   "source": [
    "final={}\n",
    "for key, value in sorted(result.items(),key =lambda item:item[1]):\n",
    "    final[key]=value\n"
   ]
  },
  {
   "cell_type": "code",
   "execution_count": null,
   "id": "f2330670",
   "metadata": {},
   "outputs": [],
   "source": [
    "final "
   ]
  },
  {
   "cell_type": "code",
   "execution_count": null,
   "id": "0562faaf",
   "metadata": {},
   "outputs": [],
   "source": [
    "keys=[*final.keys()]"
   ]
  },
  {
   "cell_type": "code",
   "execution_count": null,
   "id": "0a571cf0",
   "metadata": {},
   "outputs": [],
   "source": [
    "keys"
   ]
  },
  {
   "cell_type": "code",
   "execution_count": null,
   "id": "4261c2c6",
   "metadata": {},
   "outputs": [],
   "source": [
    "values=[*final.values()]"
   ]
  },
  {
   "cell_type": "code",
   "execution_count": null,
   "id": "7ced1dde",
   "metadata": {},
   "outputs": [],
   "source": [
    "values"
   ]
  },
  {
   "cell_type": "markdown",
   "id": "7e967977",
   "metadata": {},
   "source": [
    "**Create a dataframe of the indexed emojis for readability.**"
   ]
  },
  {
   "cell_type": "code",
   "execution_count": null,
   "id": "e6fbe225",
   "metadata": {},
   "outputs": [],
   "source": [
    "df=pd.DataFrame({'chars' :keys[-20:],'num':values[-20:]})"
   ]
  },
  {
   "cell_type": "code",
   "execution_count": null,
   "id": "22911218",
   "metadata": {},
   "outputs": [],
   "source": [
    "df"
   ]
  },
  {
   "cell_type": "markdown",
   "id": "fcf37f7e",
   "metadata": {},
   "source": [
    "**Install the plotly library to create a bar chart that displays a visual of the emoji analysis.**"
   ]
  },
  {
   "cell_type": "code",
   "execution_count": null,
   "id": "7e3d1e84",
   "metadata": {},
   "outputs": [],
   "source": [
    "!pip install plotly"
   ]
  },
  {
   "cell_type": "code",
   "execution_count": null,
   "id": "c750c8a1",
   "metadata": {},
   "outputs": [],
   "source": [
    "import plotly.graph_objs as go\n",
    "from plotly.offline import iplot"
   ]
  },
  {
   "cell_type": "code",
   "execution_count": null,
   "id": "f64d5a04",
   "metadata": {},
   "outputs": [],
   "source": [
    "trace=go.Bar(\n",
    "x=df['chars'],\n",
    "y=df['num']\n",
    ")\n",
    "\n",
    "iplot([trace])"
   ]
  },
  {
   "cell_type": "markdown",
   "id": "a65318f6",
   "metadata": {},
   "source": [
    "**This bar chart displays each emoji and how many times it was used in the dataset.**"
   ]
  },
  {
   "cell_type": "code",
   "execution_count": null,
   "id": "411baa77",
   "metadata": {},
   "outputs": [],
   "source": [
    "##fin"
   ]
  },
  {
   "cell_type": "code",
   "execution_count": null,
   "id": "e48a6496",
   "metadata": {},
   "outputs": [],
   "source": []
  }
 ],
 "metadata": {
  "kernelspec": {
   "display_name": "Python 3 (ipykernel)",
   "language": "python",
   "name": "python3"
  },
  "language_info": {
   "codemirror_mode": {
    "name": "ipython",
    "version": 3
   },
   "file_extension": ".py",
   "mimetype": "text/x-python",
   "name": "python",
   "nbconvert_exporter": "python",
   "pygments_lexer": "ipython3",
   "version": "3.9.7"
  }
 },
 "nbformat": 4,
 "nbformat_minor": 5
}
